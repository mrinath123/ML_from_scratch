{
 "cells": [
  {
   "cell_type": "code",
   "execution_count": 1,
   "source": [
    "import numpy as np\r\n",
    "import pandas as pd\r\n",
    "import matplotlib.pyplot as plt"
   ],
   "outputs": [],
   "metadata": {}
  },
  {
   "cell_type": "code",
   "execution_count": 2,
   "source": [
    "from data_gen_reg import Generate"
   ],
   "outputs": [],
   "metadata": {}
  },
  {
   "cell_type": "code",
   "execution_count": 3,
   "source": [
    "gen = Generate(50)"
   ],
   "outputs": [],
   "metadata": {}
  },
  {
   "cell_type": "code",
   "execution_count": 4,
   "source": [
    "df = gen.make_data()\r\n",
    "df.head()\r\n"
   ],
   "outputs": [
    {
     "output_type": "execute_result",
     "data": {
      "text/html": [
       "<div>\n",
       "<style scoped>\n",
       "    .dataframe tbody tr th:only-of-type {\n",
       "        vertical-align: middle;\n",
       "    }\n",
       "\n",
       "    .dataframe tbody tr th {\n",
       "        vertical-align: top;\n",
       "    }\n",
       "\n",
       "    .dataframe thead th {\n",
       "        text-align: right;\n",
       "    }\n",
       "</style>\n",
       "<table border=\"1\" class=\"dataframe\">\n",
       "  <thead>\n",
       "    <tr style=\"text-align: right;\">\n",
       "      <th></th>\n",
       "      <th>X</th>\n",
       "      <th>y</th>\n",
       "    </tr>\n",
       "  </thead>\n",
       "  <tbody>\n",
       "    <tr>\n",
       "      <th>0</th>\n",
       "      <td>0.0</td>\n",
       "      <td>6.501042</td>\n",
       "    </tr>\n",
       "    <tr>\n",
       "      <th>1</th>\n",
       "      <td>1.0</td>\n",
       "      <td>7.752764</td>\n",
       "    </tr>\n",
       "    <tr>\n",
       "      <th>2</th>\n",
       "      <td>2.0</td>\n",
       "      <td>17.576598</td>\n",
       "    </tr>\n",
       "    <tr>\n",
       "      <th>3</th>\n",
       "      <td>3.0</td>\n",
       "      <td>25.493910</td>\n",
       "    </tr>\n",
       "    <tr>\n",
       "      <th>4</th>\n",
       "      <td>4.0</td>\n",
       "      <td>10.573422</td>\n",
       "    </tr>\n",
       "  </tbody>\n",
       "</table>\n",
       "</div>"
      ],
      "text/plain": [
       "     X          y\n",
       "0  0.0   6.501042\n",
       "1  1.0   7.752764\n",
       "2  2.0  17.576598\n",
       "3  3.0  25.493910\n",
       "4  4.0  10.573422"
      ]
     },
     "metadata": {},
     "execution_count": 4
    }
   ],
   "metadata": {}
  },
  {
   "cell_type": "code",
   "execution_count": 5,
   "source": [
    "X = df[[\"X\"]].values\r\n",
    "y = df[[\"y\"]].values"
   ],
   "outputs": [],
   "metadata": {}
  },
  {
   "cell_type": "code",
   "execution_count": 6,
   "source": [
    "plt.title(\"Generated data\")\r\n",
    "plt.scatter(x=df[\"X\"], y=df[\"y\"])\r\n",
    "plt.show()"
   ],
   "outputs": [
    {
     "output_type": "display_data",
     "data": {
      "image/png": "[encoded data removed]",
      "text/plain": [
       "<Figure size 432x288 with 1 Axes>"
      ]
     },
     "metadata": {
      "needs_background": "light"
     }
    }
   ],
   "metadata": {}
  },
  {
   "cell_type": "code",
   "execution_count": 7,
   "source": [
    "from linear_reg import Linear_reg"
   ],
   "outputs": [],
   "metadata": {}
  },
  {
   "cell_type": "code",
   "execution_count": 8,
   "source": [
    "lr =  Linear_reg()"
   ],
   "outputs": [],
   "metadata": {}
  },
  {
   "cell_type": "code",
   "execution_count": 9,
   "source": [
    "\r\n",
    "TRAIN_SIZE = 0.7\r\n",
    "VAL_SIZE = 0.15\r\n",
    "TEST_SIZE = 0.15\r\n",
    "NUM_SAMPLES = 50"
   ],
   "outputs": [],
   "metadata": {}
  },
  {
   "cell_type": "code",
   "execution_count": 10,
   "source": [
    "indices = list(range(50))\r\n",
    "np.random.shuffle(indices)\r\n",
    "X = X[indices]\r\n",
    "y = y[indices]"
   ],
   "outputs": [],
   "metadata": {}
  },
  {
   "cell_type": "code",
   "execution_count": 11,
   "source": [
    "train_start = 0\r\n",
    "train_end = int(0.7*NUM_SAMPLES)\r\n",
    "val_start = train_end\r\n",
    "val_end = int((TRAIN_SIZE+VAL_SIZE)*NUM_SAMPLES)\r\n",
    "test_start = val_end"
   ],
   "outputs": [],
   "metadata": {}
  },
  {
   "cell_type": "code",
   "execution_count": 12,
   "source": [
    "X_train = X[train_start:train_end]\r\n",
    "y_train = y[train_start:train_end]\r\n",
    "X_val = X[val_start:val_end]\r\n",
    "y_val = y[val_start:val_end]\r\n",
    "X_test = X[test_start:]\r\n",
    "y_test = y[test_start:]\r\n",
    "print (f\"X_train: {X_train.shape}, y_train: {y_train.shape}\")\r\n",
    "print (f\"X_val: {X_val.shape}, y_test: {y_val.shape}\")\r\n",
    "print (f\"X_test: {X_test.shape}, y_test: {y_test.shape}\")"
   ],
   "outputs": [
    {
     "output_type": "stream",
     "name": "stdout",
     "text": [
      "X_train: (35, 1), y_train: (35, 1)\n",
      "X_val: (7, 1), y_test: (7, 1)\n",
      "X_test: (8, 1), y_test: (8, 1)\n"
     ]
    }
   ],
   "metadata": {}
  },
  {
   "cell_type": "code",
   "execution_count": 13,
   "source": [
    "def standardize_data(data, mean, std):\r\n",
    "    return (data - mean)/std"
   ],
   "outputs": [],
   "metadata": {}
  },
  {
   "cell_type": "code",
   "execution_count": 14,
   "source": [
    "X_mean = np.mean(X_train)\r\n",
    "X_std = np.std(X_train)\r\n",
    "y_mean = np.mean(y_train)\r\n",
    "y_std = np.std(y_train)"
   ],
   "outputs": [],
   "metadata": {}
  },
  {
   "cell_type": "code",
   "execution_count": 15,
   "source": [
    "X_train = standardize_data(X_train, X_mean, X_std)\r\n",
    "y_train = standardize_data(y_train, y_mean, y_std)\r\n",
    "X_val = standardize_data(X_val, X_mean, X_std)\r\n",
    "y_val = standardize_data(y_val, y_mean, y_std)\r\n",
    "X_test = standardize_data(X_test, X_mean, X_std)\r\n",
    "y_test = standardize_data(y_test, y_mean, y_std)"
   ],
   "outputs": [],
   "metadata": {}
  },
  {
   "cell_type": "code",
   "execution_count": 16,
   "source": [
    "print (f\"mean: {np.mean(X_test, axis=0)[0]:.1f}, std: {np.std(X_test, axis=0)[0]:.1f}\")\r\n",
    "print (f\"mean: {np.mean(y_test, axis=0)[0]:.1f}, std: {np.std(y_test, axis=0)[0]:.1f}\")"
   ],
   "outputs": [
    {
     "output_type": "stream",
     "name": "stdout",
     "text": [
      "mean: 0.2, std: 0.8\n",
      "mean: 0.3, std: 0.9\n"
     ]
    }
   ],
   "metadata": {}
  },
  {
   "cell_type": "code",
   "execution_count": 17,
   "source": [
    "lr.train(X_train , y_train)"
   ],
   "outputs": [
    {
     "output_type": "stream",
     "name": "stdout",
     "text": [
      " epoch 0 training loss 1.7045030273525432e-31\n",
      " epoch 1000 training loss 1.0177714357538946e-31\n",
      " epoch 2000 training loss 8.736018227740501e-32\n",
      " epoch 3000 training loss 4.314083075427408e-33\n",
      " epoch 4000 training loss 1.862979548490693e-31\n",
      " epoch 5000 training loss 7.131443451216735e-33\n",
      " epoch 6000 training loss 1.2678121691051974e-32\n",
      " epoch 7000 training loss 3.178334673937335e-32\n",
      " epoch 8000 training loss 1.0653143920953395e-32\n",
      " epoch 9000 training loss 8.80425117434165e-33\n"
     ]
    }
   ],
   "metadata": {}
  },
  {
   "cell_type": "code",
   "execution_count": 18,
   "source": [
    "preds = lr.predict(X_test)"
   ],
   "outputs": [],
   "metadata": {}
  },
  {
   "cell_type": "code",
   "execution_count": 19,
   "source": [
    "preds"
   ],
   "outputs": [
    {
     "output_type": "execute_result",
     "data": {
      "text/plain": [
       "array([[-0.01321694],\n",
       "       [-0.40972502],\n",
       "       [-0.54189438],\n",
       "       [ 1.30847667],\n",
       "       [-0.74014842],\n",
       "       [ 1.50673071],\n",
       "       [ 0.97805327],\n",
       "       [-0.21147098]])"
      ]
     },
     "metadata": {},
     "execution_count": 19
    }
   ],
   "metadata": {}
  },
  {
   "cell_type": "code",
   "execution_count": 20,
   "source": [
    "W,b = lr.get_parameters()"
   ],
   "outputs": [],
   "metadata": {}
  },
  {
   "cell_type": "code",
   "execution_count": 21,
   "source": [
    "1/(len(preds))*(np.sum(y_test - preds)**2)"
   ],
   "outputs": [
    {
     "output_type": "execute_result",
     "data": {
      "text/plain": [
       "0.0026475190573664186"
      ]
     },
     "metadata": {},
     "execution_count": 21
    }
   ],
   "metadata": {}
  },
  {
   "cell_type": "code",
   "execution_count": 22,
   "source": [
    "W_unscaled = W * (y_std/X_std)\r\n",
    "b_unscaled = b * y_std + y_mean - np.sum(W_unscaled*X_mean)\r\n",
    "W_unscaled,b_unscaled"
   ],
   "outputs": [
    {
     "output_type": "execute_result",
     "data": {
      "text/plain": [
       "(array([[4.19406113]]), 1.0229397309748407)"
      ]
     },
     "metadata": {},
     "execution_count": 22
    }
   ],
   "metadata": {}
  },
  {
   "cell_type": "code",
   "execution_count": 23,
   "source": [
    "pred_train = X_train*W + b"
   ],
   "outputs": [],
   "metadata": {}
  },
  {
   "cell_type": "code",
   "execution_count": 24,
   "source": [
    "plt.title(\"Train\")\r\n",
    "plt.scatter(X_train, y_train, label=\"y_train\")\r\n",
    "plt.plot(X_train, pred_train, color=\"red\", linewidth=1, linestyle=\"-\", label=\"model\")\r\n",
    "plt.legend(loc=\"lower right\")"
   ],
   "outputs": [
    {
     "output_type": "execute_result",
     "data": {
      "text/plain": [
       "<matplotlib.legend.Legend at 0x23661021ca0>"
      ]
     },
     "metadata": {},
     "execution_count": 24
    },
    {
     "output_type": "display_data",
     "data": {
      "image/png": "[encoded data removed]",
      "text/plain": [
       "<Figure size 432x288 with 1 Axes>"
      ]
     },
     "metadata": {
      "needs_background": "light"
     }
    }
   ],
   "metadata": {}
  },
  {
   "cell_type": "code",
   "execution_count": null,
   "source": [],
   "outputs": [],
   "metadata": {}
  }
 ],
 "metadata": {
  "orig_nbformat": 4,
  "language_info": {
   "name": "python",
   "version": "3.8.5",
   "mimetype": "text/x-python",
   "codemirror_mode": {
    "name": "ipython",
    "version": 3
   },
   "pygments_lexer": "ipython3",
   "nbconvert_exporter": "python",
   "file_extension": ".py"
  },
  "kernelspec": {
   "name": "python3",
   "display_name": "Python 3.8.5 64-bit ('deeplearning': conda)"
  },
  "interpreter": {
   "hash": "17441fd7f147fdc76508b55c379adb0f041be2a7cdc0ab49fe4daaa32944be0d"
  }
 },
 "nbformat": 4,
 "nbformat_minor": 2
}